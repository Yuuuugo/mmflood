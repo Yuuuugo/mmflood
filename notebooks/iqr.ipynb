{
 "cells": [
  {
   "cell_type": "markdown",
   "id": "58a73363",
   "metadata": {},
   "source": [
    "# Document for the retrieval of the correct Interquartile range for the dataset\n",
    "\n",
    "In this document we provide the code to identify the correct interquartile range for both S1 SAR and DEM images downloaded by the dataset.   \n",
    "Since the values can be calculated once for all, the codde has been saved in a notebook format, so to have an easy retrieval of the charts and the results."
   ]
  },
  {
   "cell_type": "code",
   "execution_count": null,
   "id": "4b901e85",
   "metadata": {},
   "outputs": [],
   "source": [
    "from pathlib import Path\n",
    "\n",
    "import numpy as np\n",
    "from plotille import histogram\n",
    "from tqdm import tqdm\n",
    "from glob import glob\n",
    "import rasterio\n",
    "from typing import Tuple"
   ]
  },
  {
   "cell_type": "code",
   "execution_count": null,
   "id": "8994f6df",
   "metadata": {},
   "outputs": [],
   "source": [
    "def imread(path: Path, channels_first: bool = True) -> np.ndarray:\n",
    "    \"\"\"Wraps rasterio open functionality to read the numpy array and exit the context.\n",
    "\n",
    "    Args:\n",
    "        path (Path): path to the geoTIFF image\n",
    "        channels_first (bool, optional): whether to return it channels first or not. Defaults to True.\n",
    "\n",
    "    Returns:\n",
    "        np.ndarray: image array\n",
    "    \"\"\"\n",
    "    with rasterio.open(str(path), mode=\"r\", driver=\"GTiff\") as src:\n",
    "        image = src.read()\n",
    "    return image if channels_first else image.transpose(1, 2, 0)\n",
    "\n",
    "def getStats(data: np.array) -> Tuple[float, float]:\n",
    "    print(histogram(data))\n",
    "    return np.percentile(data, [25, 75])\n",
    "\n",
    "def find_IQR(dataset_path: str):\n",
    "    # get the images from the folder\n",
    "    sar_files = glob(dataset_path + '/train/sar/*.tif')\n",
    "    dem_files = glob(dataset_path + '/train/dem/*.tif')\n",
    "    mask_files = glob(dataset_path + '/train/mask/*.tif')\n",
    "\n",
    "    # Take only a sample\n",
    "    vv_list = np.zeros(shape=(1))\n",
    "    vh_list = np.zeros(shape=(1))\n",
    "    dem_list = np.zeros(shape=(1))\n",
    "\n",
    "    assert len(sar_files) == len(dem_files), f'Number of files not matching, SAR: {len(sar_files)}, DEM: {len(dem_files)}'\n",
    "    for i, sar_path in enumerate(tqdm(sar_files)):\n",
    "        if(i % 100 == 0):\n",
    "            sar = imread(Path(sar_path))\n",
    "            dem = imread(Path(dem_files[i]))\n",
    "            mask = imread(Path(mask_files[i]))\n",
    "\n",
    "            valid = mask.squeeze(0) != 255\n",
    "            dem = dem[:, valid]\n",
    "            sar = sar[:, valid]\n",
    "\n",
    "            vv_list = np.concatenate((vv_list, sar[0]), axis=0)\n",
    "            vh_list = np.concatenate((vh_list, sar[1]), axis=0)\n",
    "            dem_list = np.concatenate((dem_list, dem[0]), axis=0)\n",
    "\n",
    "    print('Histogram VV:')\n",
    "    print('0,1,2,5,50,95,98,99,100:')\n",
    "    print(*getStats(vv_list))\n",
    "    print('Histogram VH:')\n",
    "    print('0,1,2,5,50,95,98,99,100:')\n",
    "    print(*getStats(vh_list))\n",
    "    print('Histogram DEM:')\n",
    "    print('0,1,2,5,50,95,98,99,100:')\n",
    "    print(*getStats(dem_list))\n",
    "    return"
   ]
  }
 ],
 "metadata": {
  "kernelspec": {
   "display_name": "Python 3",
   "language": "python",
   "name": "python3"
  },
  "language_info": {
   "codemirror_mode": {
    "name": "ipython",
    "version": 3
   },
   "file_extension": ".py",
   "mimetype": "text/x-python",
   "name": "python",
   "nbconvert_exporter": "python",
   "pygments_lexer": "ipython3",
   "version": "3.8.10"
  }
 },
 "nbformat": 4,
 "nbformat_minor": 5
}
