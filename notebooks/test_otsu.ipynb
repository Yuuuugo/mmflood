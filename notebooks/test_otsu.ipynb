{
 "cells": [
  {
   "cell_type": "markdown",
   "id": "14efc912",
   "metadata": {},
   "source": [
    "## Test of the images with Otsu thresholding"
   ]
  },
  {
   "cell_type": "code",
   "execution_count": 1,
   "id": "d710f318",
   "metadata": {},
   "outputs": [],
   "source": [
    "import os\n",
    "from pathlib import Path\n",
    "from pydantic import BaseSettings\n",
    "from torch.utils.data import DataLoader\n",
    "\n",
    "import cv2 as cv\n",
    "import numpy as np\n",
    "from matplotlib import pyplot as plt\n",
    "from matplotlib.pyplot import figure\n",
    "from sklearn.metrics import precision_score, recall_score, f1_score, jaccard_score\n",
    "import torch\n",
    "from typing import List, Tuple"
   ]
  },
  {
   "cell_type": "code",
   "execution_count": 2,
   "id": "7fc23099",
   "metadata": {},
   "outputs": [
    {
     "name": "stdout",
     "output_type": "stream",
     "text": [
      "/home/montello/works/ermes/flood-delineation/src/flood-segmentation\n"
     ]
    }
   ],
   "source": [
    "cwd = Path(os.getcwd())\n",
    "os.chdir(str(cwd.parent))\n",
    "print(os.getcwd())"
   ]
  },
  {
   "cell_type": "code",
   "execution_count": 3,
   "id": "fda2b0d6",
   "metadata": {},
   "outputs": [],
   "source": [
    "from floods.datasets.flood import FloodDataset\n",
    "from floods.prepare import eval_transforms, inverse_transform\n",
    "from tqdm import tqdm"
   ]
  },
  {
   "cell_type": "code",
   "execution_count": 4,
   "id": "7155720e",
   "metadata": {},
   "outputs": [],
   "source": [
    "dataset_cls = FloodDataset\n",
    "mean = dataset_cls.mean()[:2]\n",
    "std = dataset_cls.std()[:2]\n",
    "\n",
    "test_transform = eval_transforms(mean=mean,\n",
    "                                    std=std,\n",
    "                                    clip_max=30,\n",
    "                                    clip_min=-30)\n",
    "# create the test dataset\n",
    "test_dataset = dataset_cls(path=Path('/mnt/data1/projects/shelter/flood/tiled'),\n",
    "                            subset=\"test\",\n",
    "                            include_dem=False,\n",
    "                            normalization=test_transform)\n",
    "\n",
    "loader = DataLoader(test_dataset, batch_size=1, num_workers=4, pin_memory=False, shuffle=False)\n",
    "invert = inverse_transform(mean=FloodDataset.mean(), std=FloodDataset.std())"
   ]
  },
  {
   "cell_type": "code",
   "execution_count": 5,
   "id": "a9326e89",
   "metadata": {},
   "outputs": [],
   "source": [
    "def plot_images(output: List[np.array], titles: List[str], figsize: Tuple[int, int] = (10, 10)) -> None:\n",
    "    figure(figsize=figsize, dpi=80)\n",
    "    \"\"\"Plot a list of images with titles\"\"\"\n",
    "    for j in range(len(output)):\n",
    "        plt.subplot(1, len(output), j + 1), plt.imshow(output[j], 'gray')\n",
    "        plt.title(titles[j])\n",
    "        plt.xticks([]), plt.yticks([])\n",
    "    plt.show()\n"
   ]
  },
  {
   "cell_type": "code",
   "execution_count": 6,
   "id": "ac3291bb",
   "metadata": {},
   "outputs": [],
   "source": [
    "def minmaxscaler_image(x: np.array, min: float, max: float) -> np.array:\n",
    "    return (((x - min) / (max - min))*255).astype(np.uint8)"
   ]
  },
  {
   "cell_type": "code",
   "execution_count": 10,
   "id": "7761341d",
   "metadata": {},
   "outputs": [],
   "source": [
    "def preprocess_images(images: torch.Tensor) -> np.array:\n",
    "    images = images.numpy()\n",
    "\n",
    "    vv_img = images[0, :, :]\n",
    "    vh_img = images[1, :, :]\n",
    "\n",
    "    vv_img = minmaxscaler_image(vv_img, vv_img.min(), vv_img.max())\n",
    "    vh_img = minmaxscaler_image(vh_img, vh_img.min(), vh_img.max())\n",
    "\n",
    "    vv_img = np.log10(1+ vv_img + np.finfo(np.float16).eps)\n",
    "    vh_img = np.log10(1+ vh_img + np.finfo(np.float16).eps)\n",
    "    \n",
    "    vv_img = minmaxscaler_image(vv_img, vv_img.min(), vv_img.max())\n",
    "    vh_img = minmaxscaler_image(vh_img, vh_img.min(), vh_img.max())\n",
    "\n",
    "    return vv_img, vh_img"
   ]
  },
  {
   "cell_type": "code",
   "execution_count": 26,
   "id": "9438d511",
   "metadata": {},
   "outputs": [],
   "source": [
    "def compute_multiple_thresholds(vv: np.array, vh: np.array) -> np.array:\n",
    "\n",
    "    # Mean thresholding\n",
    "    vv_th_mean = cv.adaptiveThreshold(vv_img,255,cv.ADAPTIVE_THRESH_MEAN_C,\\\n",
    "                cv.THRESH_BINARY,11,2)\n",
    "    vh_th_mean = cv.adaptiveThreshold(vh_img,255,cv.ADAPTIVE_THRESH_MEAN_C,\\\n",
    "                cv.THRESH_BINARY,11,2)\n",
    "\n",
    "    # Gaussian thresholding\n",
    "    vv_th_gauss = cv.adaptiveThreshold(vv_img,255,cv.ADAPTIVE_THRESH_GAUSSIAN_C,\\\n",
    "                cv.THRESH_BINARY,11,2)\n",
    "    vh_th_gauss = cv.adaptiveThreshold(vh_img,255,cv.ADAPTIVE_THRESH_GAUSSIAN_C,\\\n",
    "                cv.THRESH_BINARY,11,2)\n",
    "\n",
    "    # Otsu's thresholding\n",
    "    _, otsu_vv = cv.threshold(vv_img, 0, 255, cv.THRESH_BINARY + cv.THRESH_OTSU)\n",
    "    _, otsu_vh = cv.threshold(vh_img, 0, 255, cv.THRESH_BINARY + cv.THRESH_OTSU)\n",
    "\n",
    "    # Otsu's thresholding after Gaussian filtering\n",
    "    blur_vv = cv.GaussianBlur(vv_img, (5, 5), 0)\n",
    "    blur_vh = cv.GaussianBlur(vh_img, (5, 5), 0)\n",
    "    _, gauss_otsu_vv = cv.threshold(blur_vv, 0, 255, cv.THRESH_BINARY + cv.THRESH_OTSU)\n",
    "    _, gauss_otsu_vh = cv.threshold(blur_vh, 0, 255, cv.THRESH_BINARY + cv.THRESH_OTSU)\n",
    "\n",
    "\n",
    "    # Fix 1s and 0s\n",
    "    pred_mean = (vv_th_mean * vh_th_mean)\n",
    "    pred_mean = (1- pred_mean).astype(np.uint8)\n",
    "    \n",
    "    pred_gauss = (vv_th_gauss * vh_th_gauss)\n",
    "    pred_gauss = (1- pred_gauss).astype(np.uint8)\n",
    "\n",
    "    pred_otsu = ((otsu_vv + otsu_vh)/2).astype(np.uint8)\n",
    "    pred_otsu = (np.invert(pred_otsu)/255).astype(np.uint8)\n",
    "\n",
    "    pred_otsu_gauss = ((gauss_otsu_vv + gauss_otsu_vh)/2).astype(np.uint8)\n",
    "    pred_otsu_gauss = (np.invert(pred_otsu_gauss)/255).astype(np.uint8)\n",
    "\n",
    "    return pred_mean, pred_gauss, pred_otsu, pred_otsu_gauss"
   ]
  },
  {
   "cell_type": "code",
   "execution_count": null,
   "id": "55784ef4",
   "metadata": {},
   "outputs": [],
   "source": [
    "titles = ['mask', 'vv', 'vh', 'pred_mean_vv_vh', 'pred_gaussian_vv_vh', 'pred_otsu_vv_vh', 'pred_otsu_gaussian_vv_vh']\n",
    "\n",
    "for i, (images, label) in tqdm(enumerate(loader)):\n",
    "    \n",
    "    label = label.squeeze(0)\n",
    "    mask = (label.flatten() != 255)\n",
    "    images = images.squeeze(0)\n",
    "\n",
    "    vv_img, vh_img = preprocess_images(images)\n",
    "    pred_mean, pred_gauss, pred_otsu, pred_otsu_gauss = compute_multiple_thresholds(vv_img, vh_img)\n",
    "\n",
    "    output = [label, vv_img, vh_img, pred_mean, pred_gauss, pred_otsu, pred_otsu_gauss]\n",
    "\n",
    "    plot_images(output, titles, (16,20))\n",
    "    \n",
    "    if(i == 4):\n",
    "        break\n"
   ]
  },
  {
   "cell_type": "code",
   "execution_count": null,
   "id": "9b38d4f4",
   "metadata": {},
   "outputs": [],
   "source": [
    "titles = ['mask', 'vv', 'vh', 'pred_mean_vv_vh', 'pred_gaussian_vv_vh', 'pred_otsu_vv_vh', 'pred_otsu_gaussian_vv_vh']\n",
    "\n",
    "prec_scores = np.zeros(test_dataset.__len__())\n",
    "recall_scores = np.zeros(test_dataset.__len__())\n",
    "f1_scores = np.zeros(test_dataset.__len__())\n",
    "bg_f1_scores = np.zeros(test_dataset.__len__())\n",
    "iou_scores = np.zeros(test_dataset.__len__())\n",
    "bg_iou_scores = np.zeros(test_dataset.__len__())\n",
    "\n",
    "for i, (images, label) in tqdm(enumerate(loader)):\n",
    "\n",
    "    label = label.squeeze(0)\n",
    "    mask = (label.flatten() != 255)\n",
    "    images = images.squeeze(0)\n",
    "\n",
    "    vv_img, vh_img = preprocess_images(images)\n",
    "    pred_mean, pred_gauss, pred_otsu, pred_otsu_gauss = compute_multiple_thresholds(vv_img, vh_img)\n",
    "\n",
    "    to_save = (pred_otsu_gauss * 255).astype(np.uint8)\n",
    "    plt.imsave(f\"/home/montello/works/ermes/flood-delineation/src/flood-segmentation/outputs/otsu_img_saves/{i}.png\",\n",
    "               to_save,\n",
    "               cmap='gray')\n",
    "\n",
    "    label = label.flatten()[mask]\n",
    "    pred_otsu_gauss = pred_otsu_gauss.flatten()[mask]\n",
    "    pred_otsu_gauss[pred_otsu_gauss > 0] = 1\n",
    "\n",
    "    prec_scores[i] = precision_score(y_true=label, y_pred=pred_otsu_gauss)\n",
    "    recall_scores[i] = recall_score(y_true=label, y_pred=pred_otsu_gauss)\n",
    "    f1_scores[i] = f1_score(y_true=label, y_pred=pred_otsu_gauss)\n",
    "    bg_f1_scores[i] = f1_score(y_true=label, y_pred=pred_otsu_gauss, pos_label=0)\n",
    "    iou_scores[i] = jaccard_score(y_true=label, y_pred=pred_otsu_gauss)\n",
    "    bg_iou_scores[i] = jaccard_score(y_true=label, y_pred=pred_otsu_gauss, pos_label=0)\n",
    "\n",
    "\n",
    "print(f\"precision: {np.mean(prec_scores)}\")\n",
    "print(f\"recall: {np.mean(recall_scores)}\")\n",
    "print(f\"f1: {np.mean(f1_scores)}\")\n",
    "print(f\"bg_f1: {np.mean(bg_f1_scores)}\")\n",
    "print(f\"iou: {np.mean(iou_scores)}\")\n",
    "print(f\"bg_iou: {np.mean(bg_iou_scores)}\")"
   ]
  }
 ],
 "metadata": {
  "kernelspec": {
   "display_name": "Python 3",
   "language": "python",
   "name": "python3"
  },
  "language_info": {
   "codemirror_mode": {
    "name": "ipython",
    "version": 3
   },
   "file_extension": ".py",
   "mimetype": "text/x-python",
   "name": "python",
   "nbconvert_exporter": "python",
   "pygments_lexer": "ipython3",
   "version": "3.8.10"
  }
 },
 "nbformat": 4,
 "nbformat_minor": 5
}
