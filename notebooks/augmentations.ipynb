{
 "cells": [
  {
   "cell_type": "code",
   "execution_count": null,
   "metadata": {},
   "outputs": [],
   "source": [
    "import os\n",
    "from pathlib import Path\n",
    "from pydantic import BaseSettings\n",
    "from matplotlib import  pyplot as plt\n",
    "\n",
    "import numpy as np\n",
    "from tqdm import tqdm\n",
    "from torch.utils.data import DataLoader"
   ]
  },
  {
   "cell_type": "code",
   "execution_count": null,
   "metadata": {},
   "outputs": [],
   "source": [
    "class StatsConfig(BaseSettings):\n",
    "    class Config:\n",
    "        env_file = \".env\"\n",
    "        env_file_encoding = \"utf-8\"\n",
    "    data_processed: Path\n",
    "    subset: str = \"train\""
   ]
  },
  {
   "cell_type": "code",
   "execution_count": null,
   "metadata": {},
   "outputs": [],
   "source": [
    "cwd = Path(os.getcwd())\n",
    "os.chdir(str(cwd.parent))\n",
    "print(os.getcwd())"
   ]
  },
  {
   "cell_type": "code",
   "execution_count": null,
   "metadata": {},
   "outputs": [],
   "source": [
    "cfg = StatsConfig()\n",
    "cfg"
   ]
  },
  {
   "cell_type": "code",
   "execution_count": null,
   "metadata": {},
   "outputs": [],
   "source": [
    "from floods.datasets.flood import FloodDataset\n",
    "from floods.prepare import train_transforms_base, train_transforms_dem, train_transforms_sar, eval_transforms, inverse_transform\n",
    "from floods.utils.gis import rgb_ratio"
   ]
  },
  {
   "cell_type": "code",
   "execution_count": null,
   "metadata": {},
   "outputs": [],
   "source": [
    "mean = FloodDataset.mean()\n",
    "std = FloodDataset.std()\n",
    "\n",
    "base_trf = train_transforms_base(image_size=512)\n",
    "sar_trf = train_transforms_sar()\n",
    "dem_trf = train_transforms_dem()\n",
    "normalize = eval_transforms(mean=mean,\n",
    "                            std=std,\n",
    "                            clip_min=-30,\n",
    "                            clip_max=30)\n",
    "# create train and validation sets\n",
    "dataset = FloodDataset(path=cfg.data_processed,\n",
    "                       subset=\"train\",\n",
    "                       include_dem=True,\n",
    "                       transform_base=base_trf,\n",
    "                       transform_sar=sar_trf,\n",
    "                       transform_dem=dem_trf,\n",
    "                       normalization=normalize)\n",
    "loader = DataLoader(dataset, batch_size=2, num_workers=4, pin_memory=False, shuffle=False)\n",
    "invert = inverse_transform(mean=FloodDataset.mean(), std=FloodDataset.std())"
   ]
  },
  {
   "cell_type": "code",
   "execution_count": null,
   "metadata": {},
   "outputs": [],
   "source": [
    "indices = np.random.choice(len(loader), size=5, replace=False)\n",
    "indices = [0, 1, 2, 3, 4]\n"
   ]
  },
  {
   "cell_type": "code",
   "execution_count": null,
   "metadata": {},
   "outputs": [],
   "source": [
    "for i, (images, label) in tqdm(enumerate(loader)):\n",
    "    if i not in indices:\n",
    "        continue\n",
    "    else:\n",
    "        \n",
    "        images = invert(images)\n",
    "        f, axes = plt.subplots(1, 6, figsize=(30, 10))\n",
    "        print('vv', images[:,:,:,0].min(), images[:,:,:,0].max())\n",
    "        print('vh', images[:,:,:,1].min(), images[:,:,:,1].max())\n",
    "        for j in range(images.shape[0]):\n",
    "            # rgb = rgb_ratio(images[j], weights=(0.6, 1.1, 0.005))\n",
    "            axes[j * 3].imshow(images[j, :, :,0]/images[:,:,:,0].max(), cmap=\"gray\")\n",
    "            axes[j * 3 + 1].imshow(images[j][:,:,-1])\n",
    "            axes[j * 3 + 2].imshow(label[j])\n",
    "        plt.show()\n",
    "    if(i == 4):\n",
    "        break"
   ]
  },
  {
   "cell_type": "code",
   "execution_count": null,
   "metadata": {},
   "outputs": [],
   "source": [
    "images, label = dataset.__getitem__(0)\n",
    "images = invert(images)\n",
    "\n",
    "f, axes = plt.subplots(1, 3, figsize=(15, 5))\n",
    "rgb = rgb_ratio(images, weights=(5, 10, 0.1))\n",
    "axes[0].imshow(rgb)\n",
    "axes[ 1].imshow(images[:,:,-1])\n",
    "axes[2].imshow(label)\n",
    "plt.show()"
   ]
  },
  {
   "cell_type": "code",
   "execution_count": null,
   "metadata": {},
   "outputs": [],
   "source": []
  }
 ],
 "metadata": {
  "interpreter": {
   "hash": "61bd0401774e7981c2ad7ca0754761d58a145d15f3fee780bc248b1d208f4211"
  },
  "kernelspec": {
   "display_name": "Python 3.8.10 64-bit ('.venv': venv)",
   "language": "python",
   "name": "python3"
  },
  "language_info": {
   "codemirror_mode": {
    "name": "ipython",
    "version": 3
   },
   "file_extension": ".py",
   "mimetype": "text/x-python",
   "name": "python",
   "nbconvert_exporter": "python",
   "pygments_lexer": "ipython3",
   "version": "3.8.10"
  },
  "orig_nbformat": 4
 },
 "nbformat": 4,
 "nbformat_minor": 2
}
