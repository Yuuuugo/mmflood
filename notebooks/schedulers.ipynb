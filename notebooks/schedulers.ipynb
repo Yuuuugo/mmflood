{
 "cells": [
  {
   "cell_type": "code",
   "execution_count": 26,
   "metadata": {},
   "outputs": [],
   "source": [
    "import torch\n",
    "from torch.optim.lr_scheduler import _LRScheduler\n",
    "import matplotlib.pyplot as plt\n",
    "\n",
    "class PolynomialLRDecay(_LRScheduler):\n",
    "    \"\"\"Polynomial learning rate decay until step reach to max_decay_step\n",
    "    \n",
    "    Args:\n",
    "        optimizer (Optimizer): Wrapped optimizer.\n",
    "        max_decay_steps: after this step, we stop decreasing learning rate\n",
    "        end_learning_rate: scheduler stoping learning rate decay, value of learning rate must be this value\n",
    "        power: The power of the polynomial.\n",
    "    \"\"\"\n",
    "    def __init__(self, optimizer, max_decay_steps, end_learning_rate=0.0001, power=1.0):\n",
    "        if max_decay_steps <= 1.:\n",
    "            raise ValueError('max_decay_steps should be greater than 1.')\n",
    "        self.max_decay_steps = max_decay_steps\n",
    "        self.end_learning_rate = end_learning_rate\n",
    "        self.power = power\n",
    "        self.last_step = 0\n",
    "        super().__init__(optimizer)\n",
    "\n",
    "    def get_lr(self):\n",
    "        if self.last_step > self.max_decay_steps:\n",
    "            return [self.end_learning_rate for _ in self.base_lrs]\n",
    "\n",
    "        return [(base_lr - self.end_learning_rate) * ((1 - self.last_step / self.max_decay_steps)**(self.power)) +\n",
    "                self.end_learning_rate for base_lr in self.base_lrs]\n",
    "\n",
    "    def step(self, step=None):\n",
    "        if step is None:\n",
    "            step = self.last_step + 1\n",
    "        self.last_step = step if step != 0 else 1\n",
    "        if self.last_step <= self.max_decay_steps:\n",
    "            decay_lrs = [(base_lr - self.end_learning_rate) *\n",
    "                         ((1 - self.last_step / self.max_decay_steps)**(self.power)) + self.end_learning_rate\n",
    "                         for base_lr in self.base_lrs]\n",
    "            for param_group, lr in zip(self.optimizer.param_groups, decay_lrs):\n",
    "                param_group['lr'] = lr\n"
   ]
  },
  {
   "cell_type": "code",
   "execution_count": 28,
   "metadata": {},
   "outputs": [
    {
     "data": {
      "image/png": "[encoded data removed]",
      "text/plain": [
       "<Figure size 432x288 with 1 Axes>"
      ]
     },
     "metadata": {
      "needs_background": "light"
     },
     "output_type": "display_data"
    }
   ],
   "source": [
    "v = torch.zeros(10)\n",
    "optim = torch.optim.SGD([v], lr=0.01)\n",
    "scheduler = PolynomialLRDecay(optim, max_decay_steps=99, end_learning_rate=0.0001, power=3)\n",
    "out = []\n",
    "for epoch in range(1, 100):\n",
    "    scheduler.step(epoch)\n",
    "    out = out + [optim.param_groups[0]['lr']]\n",
    "plt.plot(out)\n",
    "plt.show()\n",
    "#     print(epoch, optim.param_groups[0]['lr'])"
   ]
  },
  {
   "cell_type": "code",
   "execution_count": null,
   "metadata": {},
   "outputs": [],
   "source": []
  }
 ],
 "metadata": {
  "kernelspec": {
   "display_name": "Python 3",
   "language": "python",
   "name": "python3"
  },
  "language_info": {
   "codemirror_mode": {
    "name": "ipython",
    "version": 3
   },
   "file_extension": ".py",
   "mimetype": "text/x-python",
   "name": "python",
   "nbconvert_exporter": "python",
   "pygments_lexer": "ipython3",
   "version": "3.8.10"
  }
 },
 "nbformat": 4,
 "nbformat_minor": 2
}
